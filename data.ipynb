{
 "cells": [
  {
   "cell_type": "code",
   "execution_count": 1,
   "metadata": {},
   "outputs": [],
   "source": [
    "import os\n",
    "import numpy\n",
    "import numpy as np\n",
    "import matplotlib.pyplot as plt\n",
    "from tensorflow.python.keras.preprocessing import image "
   ]
  },
  {
   "cell_type": "code",
   "execution_count": 2,
   "metadata": {},
   "outputs": [],
   "source": [
    "image_list = os.listdir('dataset/images')\n",
    "mask_list = os.listdir('dataset/masks/')\n",
    "image_list.sort()\n",
    "mask_list.sort()"
   ]
  },
  {
   "cell_type": "code",
   "execution_count": 3,
   "metadata": {},
   "outputs": [],
   "source": [
    "for i in range(len(image_list)):\n",
    "    if image_list[i][:-3] != mask_list[i][:-3]:\n",
    "        print(i)"
   ]
  },
  {
   "cell_type": "code",
   "execution_count": 4,
   "metadata": {},
   "outputs": [
    {
     "name": "stdout",
     "output_type": "stream",
     "text": [
      "done: 0 images\n",
      "done: 500 images\n",
      "done: 1000 images\n",
      "done: 1500 images\n",
      "done: 2000 images\n",
      "done: 2500 images\n",
      "done: 3000 images\n",
      "done: 3500 images\n",
      "done: 4000 images\n",
      "done: 4500 images\n",
      "done: 5000 images\n",
      "done: 5500 images\n",
      "Dumping numpy objects\n",
      "Done: images Done: masks\n"
     ]
    }
   ],
   "source": [
    "images = []\n",
    "masks = []\n",
    "for i in range(len(image_list)):\n",
    "    img = image.load_img(f'dataset/images/{image_list[i]}', target_size=(256, 256))\n",
    "    mask = image.load_img(f'dataset/masks/{mask_list[i]}', target_size=(256, 256), grayscale=True)\n",
    "    img = image.img_to_array(img)\n",
    "    mask = image.img_to_array(mask)\n",
    "    images.append(img)\n",
    "    masks.append(mask)\n",
    "    if i % 500 == 0:\n",
    "        print(f'done: {i} images')\n",
    "images = np.array(images)\n",
    "masks = np.array(masks)\n",
    "print('Dumping numpy objects')\n",
    "np.save('images.npy', images)\n",
    "print('Done: images', end=' ')\n",
    "np.save('masks.npy', masks)\n",
    "print('Done: masks')"
   ]
  },
  {
   "cell_type": "code",
   "execution_count": null,
   "metadata": {},
   "outputs": [],
   "source": []
  }
 ],
 "metadata": {
  "kernelspec": {
   "display_name": "Python 3",
   "language": "python",
   "name": "python3"
  },
  "language_info": {
   "codemirror_mode": {
    "name": "ipython",
    "version": 3
   },
   "file_extension": ".py",
   "mimetype": "text/x-python",
   "name": "python",
   "nbconvert_exporter": "python",
   "pygments_lexer": "ipython3",
   "version": "3.6.5"
  }
 },
 "nbformat": 4,
 "nbformat_minor": 2
}
